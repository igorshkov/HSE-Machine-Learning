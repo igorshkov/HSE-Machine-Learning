{
 "cells": [
  {
   "cell_type": "code",
   "execution_count": 1,
   "metadata": {},
   "outputs": [],
   "source": [
    "%matplotlib inline\n",
    "import pandas as pd\n",
    "import numpy as np\n",
    "from sklearn.cross_validation import KFold\n",
    "from sklearn.svm import SVC\n",
    "from sklearn.grid_search import GridSearchCV\n",
    "from sklearn.feature_extraction.text import TfidfVectorizer\n",
    "import matplotlib.pyplot as plt"
   ]
  },
  {
   "cell_type": "code",
   "execution_count": 2,
   "metadata": {},
   "outputs": [
    {
     "name": "stdout",
     "output_type": "stream",
     "text": [
      "Done\n"
     ]
    }
   ],
   "source": [
    "from sklearn import datasets\n",
    "\n",
    "newsgroups = datasets.fetch_20newsgroups(\n",
    "        subset='all', \n",
    "        categories=['alt.atheism', 'sci.space']\n",
    ")\n",
    "print \"Done\""
   ]
  },
  {
   "cell_type": "code",
   "execution_count": 4,
   "metadata": {},
   "outputs": [
    {
     "name": "stdout",
     "output_type": "stream",
     "text": [
      "Done\n"
     ]
    }
   ],
   "source": [
    "vectorizer = TfidfVectorizer()\n",
    "X = vectorizer.fit_transform(newsgroups.data)\n",
    "y = pd.Series(newsgroups.target)\n",
    "print \"Done\""
   ]
  },
  {
   "cell_type": "code",
   "execution_count": 5,
   "metadata": {},
   "outputs": [
    {
     "name": "stdout",
     "output_type": "stream",
     "text": [
      "Fitting 2 folds for each of 11 candidates, totalling 22 fits\nDone"
     ]
    },
    {
     "name": "stdout",
     "output_type": "stream",
     "text": [
      "\n"
     ]
    },
    {
     "name": "stderr",
     "output_type": "stream",
     "text": [
      "[Parallel(n_jobs=1)]: Done  22 out of  22 | elapsed:   37.4s finished\n"
     ]
    }
   ],
   "source": [
    "grid = {'C': np.power(10.0, np.arange(-5, 6))}\n",
    "cv = KFold(y.size, n_folds=2, shuffle=True, random_state=241)\n",
    "clf = SVC(kernel='linear', random_state=241)\n",
    "gs = GridSearchCV(clf, grid, scoring='accuracy', cv=cv, verbose=1)\n",
    "gs.fit(X, y)\n",
    "best_clf = gs.best_estimator_\n",
    "print \"Done\""
   ]
  },
  {
   "cell_type": "code",
   "execution_count": 5,
   "metadata": {},
   "outputs": [
    {
     "data": {
      "text/plain": [
       "['best_clf.pkl',\n 'best_clf.pkl_01.npy',\n 'best_clf.pkl_02.npy',\n 'best_clf.pkl_03.npy',\n 'best_clf.pkl_04.npy',\n 'best_clf.pkl_05.npy',\n 'best_clf.pkl_06.npy',\n 'best_clf.pkl_07.npy',\n 'best_clf.pkl_08.npy',\n 'best_clf.pkl_09.npy',\n 'best_clf.pkl_10.npy',\n 'best_clf.pkl_11.npy',\n 'best_clf.pkl_12.npy',\n 'best_clf.pkl_13.npy',\n 'best_clf.pkl_14.npy',\n 'best_clf.pkl_15.npy',\n 'best_clf.pkl_16.npy',\n 'best_clf.pkl_17.npy']"
      ]
     },
     "execution_count": 5,
     "output_type": "execute_result",
     "metadata": {}
    }
   ],
   "source": [
    "# persist the model for future use without having to retrain\n",
    "from sklearn.externals import joblib\n",
    "joblib.dump(best_clf, 'best_clf.pkl')"
   ]
  },
  {
   "cell_type": "code",
   "execution_count": 119,
   "metadata": {},
   "outputs": [
    {
     "data": {
      "text/plain": [
       "1.0"
      ]
     },
     "execution_count": 119,
     "output_type": "execute_result",
     "metadata": {}
    }
   ],
   "source": [
    "# load model\n",
    "best_clf = joblib.load('best_clf.pkl')"
   ]
  },
  {
   "cell_type": "code",
   "execution_count": 6,
   "metadata": {},
   "outputs": [
    {
     "data": {
      "image/png": "[encoded data removed]"
     },
     "output_type": "display_data",
     "text": [
      "<matplotlib.figure.Figure at 0x114139350>"
     ],
     "metadata": {}
    }
   ],
   "source": [
    "# анализ значения качества для всех значений параметров\n",
    "cross_score = []\n",
    "parameters = []\n",
    "for a in gs.grid_scores_:\n",
    "    cross_score.append(a.mean_validation_score) # оценка качества по кросс-валидации\n",
    "    parameters.append(a.parameters) # значения параметров\n",
    "plt.plot(cross_score);"
   ]
  },
  {
   "cell_type": "code",
   "execution_count": 7,
   "metadata": {},
   "outputs": [
    {
     "data": {
      "text/plain": [
       "1.0"
      ]
     },
     "execution_count": 7,
     "output_type": "execute_result",
     "metadata": {}
    }
   ],
   "source": [
    "# max grid parameter\n",
    "W = dict(zip(grid['C'], cross_score))\n",
    "max(W, key=W.get)"
   ]
  },
  {
   "cell_type": "code",
   "execution_count": 10,
   "metadata": {},
   "outputs": [],
   "source": [
    "# best parameters\n",
    "# to series\n",
    "coef = best_clf.coef_.toarray().tolist()[0]\n",
    "coef = pd.Series(coef)\n",
    "\n",
    "# take absolute\n",
    "coef = coef.abs()\n",
    "coef = coef.sort_values(ascending=False)\n",
    "# no abs param value\n",
    "# 24019,17802,23673,22936,18158,9043,16027,12503,6685,11072\n",
    "ten_top_id = coef.index[range(10)]"
   ]
  },
  {
   "cell_type": "code",
   "execution_count": 11,
   "metadata": {},
   "outputs": [
    {
     "data": {
      "text/plain": [
       "24019       space\n12871         god\n5088      atheism\n5093     atheists\n17802        moon\n23673         sky\n21850    religion\n5776        bible\n15606       keith\n22936         sci\ndtype: object"
      ]
     },
     "execution_count": 11,
     "output_type": "execute_result",
     "metadata": {}
    }
   ],
   "source": [
    "# words\n",
    "# space,god,atheism,atheists,moon,sky,religion,bible,keith,sci\n",
    "feature_names = pd.Series(vectorizer.get_feature_names())\n",
    "feature_names[ten_top_id]"
   ]
  },
  {
   "cell_type": "code",
   "execution_count": 9,
   "metadata": {},
   "outputs": [],
   "source": [
    ""
   ]
  }
 ],
 "metadata": {},
 "nbformat": 4,
 "nbformat_minor": 0
}