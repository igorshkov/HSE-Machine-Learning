{
 "cells": [
  {
   "cell_type": "code",
   "execution_count": 238,
   "metadata": {},
   "outputs": [],
   "source": [
    "import pandas as pd\n",
    "import numpy as np\n",
    "from sklearn.preprocessing import scale\n",
    "from sklearn.metrics import accuracy_score\n",
    "from sklearn.cross_validation import KFold, cross_val_score\n",
    "from sklearn.neighbors import KNeighborsClassifier\n",
    "import matplotlib\n",
    "import matplotlib.pyplot as plt\n",
    "%matplotlib inline"
   ]
  },
  {
   "cell_type": "code",
   "execution_count": 98,
   "metadata": {},
   "outputs": [],
   "source": [
    "features = ['Alcohol', 'MalicAcid ', 'Ash', 'AlcalinityOfAsh', 'Magnesium', 'TotalPhenols', \n",
    "            'Flavanoids', 'NonflavanoidPhenols', 'Proanthocyanins', 'ColorIntensity', 'Hue', \n",
    "            'OD280/OD315OfDilutedWines', 'Proline']\n",
    "target = ['Class']"
   ]
  },
  {
   "cell_type": "code",
   "execution_count": 99,
   "metadata": {},
   "outputs": [],
   "source": [
    "# 1\n",
    "data = pd.read_csv('wine.data', header=None, names=(target+features))"
   ]
  },
  {
   "cell_type": "code",
   "execution_count": 100,
   "metadata": {},
   "outputs": [],
   "source": [
    "# 2\n",
    "X = np.array(data[features])\n",
    "Y = np.array(data[target])"
   ]
  },
  {
   "cell_type": "code",
   "execution_count": 199,
   "metadata": {},
   "outputs": [
    {
     "name": "stdout",
     "output_type": "stream",
     "text": [
      "Train size:  142\nTest size:  36\n"
     ]
    }
   ],
   "source": [
    "# 3\n",
    "l = len(data)\n",
    "kf = KFold(l, n_folds=5, shuffle=True, random_state=42)\n",
    "\n",
    "X_trn_folds = []\n",
    "Y_trn_folds = []\n",
    "X_tst_folds = []\n",
    "Y_tst_folds = []\n",
    "\n",
    "for train_index, test_index in kf:\n",
    "    # X_train, X_test = X[train_index], X[test_index]\n",
    "    # Y_train, Y_test = Y[train_index], Y[test_index]\n",
    "    X_trn_folds.append(X[train_index])\n",
    "    Y_trn_folds.append(Y[train_index])\n",
    "    X_tst_folds.append(X[test_index])\n",
    "    Y_tst_folds.append(Y[test_index])\n",
    "    \n",
    "print \"Train size: \", len(Y_trn_folds[0])\n",
    "print \"Test size: \", len(Y_tst_folds[0])"
   ]
  },
  {
   "cell_type": "code",
   "execution_count": 231,
   "metadata": {},
   "outputs": [
    {
     "name": "stdout",
     "output_type": "stream",
     "text": [
      "50\n"
     ]
    }
   ],
   "source": [
    "# 4\n",
    "accuracy = []\n",
    "l = len(data)\n",
    "kf = KFold(l, n_folds=5, shuffle=True, random_state=42)\n",
    "\n",
    "for k in range(1, 51):\n",
    "    clf = KNeighborsClassifier(n_neighbors=k)\n",
    "    scores = cross_val_score(clf, X, Y.ravel(), cv=kf)\n",
    "    accuracy.append(np.mean(scores))\n",
    "    # accuracy.append()\n",
    "    \n",
    "    # scores = []\n",
    "    # \n",
    "    # for i in range(5):\n",
    "    #     clf = KNeighborsClassifier(n_neighbors=k)\n",
    "    #     clf.fit(X_trn_folds[i], Y_trn_folds[i].ravel())\n",
    "    #     # predicting\n",
    "    #     Y_pred = clf.predict(X_tst_folds[i])\n",
    "    #     scores.append(accuracy_score(Y_tst_folds[i], Y_pred))\n",
    "    # \n",
    "    # accuracy.append(np.mean(scores))\n",
    "    \n",
    "print len(accuracy)"
   ]
  },
  {
   "cell_type": "code",
   "execution_count": 230,
   "metadata": {},
   "outputs": [
    {
     "name": "stderr",
     "output_type": "stream",
     "text": [
      "/Users/igorshkov/anaconda/lib/python2.7/site-packages/sklearn/utils/validation.py:420: DataConversionWarning: Data with input dtype int64 was converted to float64 by the scale function.\n  warnings.warn(msg, DataConversionWarning)\n"
     ]
    }
   ],
   "source": [
    "# 5\n",
    "X_norm = scale(X)\n",
    "# Y_norm = scale(Y).ravel()\n",
    "# X_train_norm = [scale(X_train) for X_train in X_trn_folds]\n",
    "# X_test_norm = [scale(X_test) for X_test in X_tst_folds]"
   ]
  },
  {
   "cell_type": "code",
   "execution_count": 235,
   "metadata": {},
   "outputs": [
    {
     "name": "stdout",
     "output_type": "stream",
     "text": [
      "50\n"
     ]
    }
   ],
   "source": [
    "# 6\n",
    "accuracy_normal = []\n",
    "\n",
    "l = len(data)\n",
    "kf = KFold(l, n_folds=5, shuffle=True, random_state=42)\n",
    "\n",
    "for k in range(1, 51):\n",
    "    clf = KNeighborsClassifier(n_neighbors=k)\n",
    "    scores = cross_val_score(clf, X_norm, Y.ravel(), cv=kf)\n",
    "    accuracy_normal.append(np.mean(scores))\n",
    "    \n",
    "    # scores = []\n",
    "    # \n",
    "    # for i in range(5):\n",
    "    #     clf = KNeighborsClassifier(n_neighbors=k)\n",
    "    #     clf.fit(X_train_norm[i], Y_trn_folds[i].ravel())\n",
    "    #     # predicting\n",
    "    #     Y_pred = clf.predict(X_test_norm[i])\n",
    "    #     scores.append(accuracy_score(Y_tst_folds[i], Y_pred))\n",
    "    # \n",
    "    # accuracy_normal.append(np.mean(scores))\n",
    "    \n",
    "print len(accuracy_normal)"
   ]
  },
  {
   "cell_type": "code",
   "execution_count": 236,
   "metadata": {},
   "outputs": [
    {
     "data": {
      "text/plain": [
       "[<matplotlib.lines.Line2D at 0x10ebaa910>]"
      ]
     },
     "execution_count": 236,
     "output_type": "execute_result",
     "metadata": {}
    },
    {
     "data": {
      "image/png": "[encoded data removed]"
     },
     "output_type": "display_data",
     "text": [
      "<matplotlib.figure.Figure at 0x10ebaafd0>"
     ],
     "metadata": {}
    }
   ],
   "source": [
    "plt.plot(range(1, 51), accuracy)\n",
    "plt.plot(range(1, 51), accuracy_normal)"
   ]
  },
  {
   "cell_type": "code",
   "execution_count": 182,
   "metadata": {},
   "outputs": [
    {
     "data": {
      "text/plain": [
       "1"
      ]
     },
     "execution_count": 182,
     "output_type": "execute_result",
     "metadata": {}
    }
   ],
   "source": [
    "# Question 1\n",
    "# Best k with no normalization\n",
    "accuracy_dic = dict(zip(range(1,51), accuracy))\n",
    "max_k_no_norm = max(accuracy_dic, key=accuracy_dic.get)\n",
    "max_k_no_norm"
   ]
  },
  {
   "cell_type": "code",
   "execution_count": 183,
   "metadata": {},
   "outputs": [
    {
     "data": {
      "text/plain": [
       "0.7304761904761905"
      ]
     },
     "execution_count": 183,
     "output_type": "execute_result",
     "metadata": {}
    }
   ],
   "source": [
    "# Question 2\n",
    "# Best score with no normalization\n",
    "accuracy_dic[max_k_no_norm]"
   ]
  },
  {
   "cell_type": "code",
   "execution_count": 237,
   "metadata": {},
   "outputs": [
    {
     "data": {
      "text/plain": [
       "29"
      ]
     },
     "execution_count": 237,
     "output_type": "execute_result",
     "metadata": {}
    }
   ],
   "source": [
    "# Question 3\n",
    "# Best k with normalization\n",
    "accuracy_dic = dict(zip(range(1,51), accuracy_normal))\n",
    "max_k_norm = max(accuracy_dic, key=accuracy_dic.get)\n",
    "max_k_norm"
   ]
  },
  {
   "cell_type": "code",
   "execution_count": 186,
   "metadata": {},
   "outputs": [
    {
     "data": {
      "text/plain": [
       "0.96650793650793643"
      ]
     },
     "execution_count": 186,
     "output_type": "execute_result",
     "metadata": {}
    }
   ],
   "source": [
    "# Question 4\n",
    "# Best score with normalization\n",
    "accuracy_dic[max_k_norm]"
   ]
  }
 ],
 "metadata": {},
 "nbformat": 4,
 "nbformat_minor": 0
}