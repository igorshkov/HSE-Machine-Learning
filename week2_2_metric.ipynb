{
 "cells": [
  {
   "cell_type": "code",
   "execution_count": 73,
   "metadata": {},
   "outputs": [],
   "source": [
    "import pandas as pd\n",
    "import numpy as np\n",
    "from sklearn.preprocessing import scale\n",
    "from sklearn.metrics import accuracy_score\n",
    "from sklearn.cross_validation import KFold, cross_val_score\n",
    "from sklearn.neighbors import KNeighborsRegressor\n",
    "import matplotlib\n",
    "import matplotlib.pyplot as plt\n",
    "%matplotlib inline"
   ]
  },
  {
   "cell_type": "code",
   "execution_count": 74,
   "metadata": {},
   "outputs": [],
   "source": [
    "from sklearn.datasets import load_boston\n",
    "boston = load_boston()\n",
    "X = scale(boston.data)\n",
    "Y = scale(boston.target)"
   ]
  },
  {
   "cell_type": "code",
   "execution_count": 75,
   "metadata": {},
   "outputs": [
    {
     "name": "stdout",
     "output_type": "stream",
     "text": [
      "Done!\n"
     ]
    }
   ],
   "source": [
    "weights = np.linspace(1, 10, 200)\n",
    "\n",
    "accuracy = []\n",
    "l = len(data)\n",
    "kf = KFold(l, n_folds=5, shuffle=True, random_state=42)\n",
    "\n",
    "for w in weights:\n",
    "    clf = KNeighborsRegressor(n_neighbors=5, weights='distance', p=w)\n",
    "    scores = cross_val_score(clf, X, Y.ravel(), cv=kf, scoring='mean_squared_error')\n",
    "    accuracy.append(np.mean(scores))\n",
    "    \n",
    "print 'Done!'"
   ]
  },
  {
   "cell_type": "code",
   "execution_count": 76,
   "metadata": {},
   "outputs": [
    {
     "data": {
      "text/plain": [
       "[<matplotlib.lines.Line2D at 0x10c705c90>]"
      ]
     },
     "execution_count": 76,
     "output_type": "execute_result",
     "metadata": {}
    },
    {
     "data": {
      "image/png": "[encoded data removed]"
     },
     "output_type": "display_data",
     "text": [
      "<matplotlib.figure.Figure at 0x10c6a1250>"
     ],
     "metadata": {}
    }
   ],
   "source": [
    "plt.plot(weights, accuracy);"
   ]
  },
  {
   "cell_type": "code",
   "execution_count": 80,
   "metadata": {},
   "outputs": [
    {
     "data": {
      "text/plain": [
       "1.0"
      ]
     },
     "execution_count": 80,
     "output_type": "execute_result",
     "metadata": {}
    }
   ],
   "source": [
    "W = dict(zip(weights, accuracy))\n",
    "max(W, key=W.get)"
   ]
  }
 ],
 "metadata": {},
 "nbformat": 4,
 "nbformat_minor": 0
}