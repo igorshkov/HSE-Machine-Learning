{
 "cells": [
  {
   "cell_type": "code",
   "execution_count": 2,
   "metadata": {},
   "outputs": [],
   "source": [
    "import pandas as pd\n",
    "import numpy as np\n",
    "import matplotlib\n",
    "import matplotlib.pyplot as plt"
   ]
  },
  {
   "cell_type": "code",
   "execution_count": 44,
   "metadata": {},
   "outputs": [],
   "source": [
    "djia = pd.read_csv('djia_index.csv')\n",
    "X = pd.read_csv('close_prices.csv')"
   ]
  },
  {
   "cell_type": "code",
   "execution_count": 45,
   "metadata": {},
   "outputs": [],
   "source": [
    "del X['date']"
   ]
  },
  {
   "cell_type": "code",
   "execution_count": 46,
   "metadata": {},
   "outputs": [],
   "source": [
    "from sklearn.decomposition import PCA"
   ]
  },
  {
   "cell_type": "code",
   "execution_count": 47,
   "metadata": {},
   "outputs": [
    {
     "data": {
      "text/plain": [
       "PCA(copy=True, n_components=10, whiten=False)"
      ]
     },
     "execution_count": 47,
     "output_type": "execute_result",
     "metadata": {}
    }
   ],
   "source": [
    "pca = PCA(n_components=10)\n",
    "pca.fit(X)"
   ]
  },
  {
   "cell_type": "code",
   "execution_count": 48,
   "metadata": {},
   "outputs": [
    {
     "data": {
      "text/plain": [
       "[3.8826657769444295,\n 3.9667554648973726,\n 3.9360464736475902,\n 3.7311896308387587,\n 3.7259986112303518,\n 4.3171079372329579,\n 4.364227730022769,\n 4.1942129709064675,\n 4.3502779595633285,\n 4.3150361470963032]"
      ]
     },
     "execution_count": 48,
     "output_type": "execute_result",
     "metadata": {}
    }
   ],
   "source": [
    "[sum(abs(x)) for x in pca.components_]"
   ]
  },
  {
   "cell_type": "code",
   "execution_count": 49,
   "metadata": {},
   "outputs": [],
   "source": [
    ""
   ]
  },
  {
   "cell_type": "markdown",
   "metadata": {},
   "source": [
    "Скольких компонент хватит, чтобы объяснить 90% дисперсии?"
   ]
  },
  {
   "cell_type": "code",
   "execution_count": 58,
   "metadata": {},
   "outputs": [
    {
     "data": {
      "text/plain": [
       "0.92774295378364047"
      ]
     },
     "execution_count": 58,
     "output_type": "execute_result",
     "metadata": {}
    }
   ],
   "source": [
    "pca.explained_variance_ratio_[range(4)].sum()"
   ]
  },
  {
   "cell_type": "markdown",
   "metadata": {},
   "source": [
    "Kорреляция Пирсона между первой компонентой и индексом Доу-Джонса"
   ]
  },
  {
   "cell_type": "code",
   "execution_count": 81,
   "metadata": {},
   "outputs": [
    {
     "data": {
      "text/plain": [
       "0.90965221930502371"
      ]
     },
     "execution_count": 81,
     "output_type": "execute_result",
     "metadata": {}
    }
   ],
   "source": [
    "from scipy.stats import pearsonr\n",
    "first_component = X.dot(pca.components_.T)[0]\n",
    "pearsonr(djia['^DJI'], first_component)[0]"
   ]
  },
  {
   "cell_type": "markdown",
   "metadata": {},
   "source": [
    "Какая компания имеет наибольший вес в первой компоненте? "
   ]
  },
  {
   "cell_type": "code",
   "execution_count": 97,
   "metadata": {},
   "outputs": [
    {
     "data": {
      "text/plain": [
       "{'AXP': 0.12704705370936117,\n 'BA': 0.55518811294586123,\n 'CAT': 0.21942075469902661,\n 'CSCO': 0.85780567237571947,\n 'CVX': 0.65043053097512582,\n 'DD': 0.89272845404920687,\n 'DIS': 0.88475484770571466,\n 'GE': 0.25588894400272316,\n 'GS': 0.8499300196224352,\n 'HD': 0.96147058898470261,\n 'IBM': 0.8122396114130519,\n 'INTC': 0.76396249142521122,\n 'JNJ': 0.60102230503365905,\n 'JPM': 0.67397489611565575,\n 'KO': 0.64535693645626258,\n 'MCD': 0.32784411495303839,\n 'MMM': 0.95334506782834838,\n 'MRK': 0.6203385495674486,\n 'MSFT': 0.69264513533569882,\n 'NKE': 0.93085519840725905,\n 'PFE': 0.58511262776695816,\n 'PG': 0.76193353530061536,\n 'T': 0.26279831484336147,\n 'TRV': 0.9219287455628703,\n 'UNH': 0.95985678476012237,\n 'UTX': 0.39708003491097632,\n 'V': 0.9665133400237762,\n 'VZ': 0.0030389220227665459,\n 'WMT': 0.81492217017661917,\n 'XOM': 0.33215337147972845}"
      ]
     },
     "execution_count": 97,
     "output_type": "execute_result",
     "metadata": {}
    }
   ],
   "source": [
    "cors = [abs(pearsonr(first_component, X[i])[0]) for i in X.columns]\n",
    "dict(zip(X.columns, cors))\n",
    "max()"
   ]
  },
  {
   "cell_type": "code",
   "execution_count": 96,
   "metadata": {},
   "outputs": [
    {
     "data": {
      "text/plain": [
       "Index([u'AXP', u'BA', u'CAT', u'CSCO', u'CVX', u'DD', u'DIS', u'GE', u'GS',\n       u'HD', u'IBM', u'INTC', u'JNJ', u'JPM', u'KO', u'MCD', u'MMM', u'MRK',\n       u'MSFT', u'NKE', u'PFE', u'PG', u'T', u'TRV', u'UNH', u'UTX', u'V',\n       u'VZ', u'WMT', u'XOM'],\n      dtype='object')"
      ]
     },
     "execution_count": 96,
     "output_type": "execute_result",
     "metadata": {}
    }
   ],
   "source": [
    ""
   ]
  }
 ],
 "metadata": {},
 "nbformat": 4,
 "nbformat_minor": 0
}