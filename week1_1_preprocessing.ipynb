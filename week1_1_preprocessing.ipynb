{
 "cells": [
  {
   "cell_type": "code",
   "execution_count": 1,
   "metadata": {},
   "outputs": [],
   "source": [
    "import pandas as pd"
   ]
  },
  {
   "cell_type": "code",
   "execution_count": 2,
   "metadata": {},
   "outputs": [],
   "source": [
    "# keys\n",
    "# ['Survived', 'Pclass', 'Name', 'Sex', 'Age', 'SibSp', 'Parch', 'Ticket', 'Fare', 'Cabin', 'Embarked']"
   ]
  },
  {
   "cell_type": "code",
   "execution_count": 3,
   "metadata": {},
   "outputs": [],
   "source": [
    "data = pd.read_csv('titanic.csv', index_col='PassengerId')\n",
    "m = float(len(data))"
   ]
  },
  {
   "cell_type": "code",
   "execution_count": 4,
   "metadata": {},
   "outputs": [
    {
     "data": {
      "text/html": [
       "<div>\n",
       "<table border=\"1\" class=\"dataframe\">\n",
       "  <thead>\n",
       "    <tr style=\"text-align: right;\">\n",
       "      <th></th>\n",
       "      <th>Survived</th>\n",
       "      <th>Pclass</th>\n",
       "      <th>Name</th>\n",
       "      <th>Age</th>\n",
       "      <th>SibSp</th>\n",
       "      <th>Parch</th>\n",
       "      <th>Ticket</th>\n",
       "      <th>Fare</th>\n",
       "      <th>Cabin</th>\n",
       "      <th>Embarked</th>\n",
       "    </tr>\n",
       "    <tr>\n",
       "      <th>Sex</th>\n",
       "      <th></th>\n",
       "      <th></th>\n",
       "      <th></th>\n",
       "      <th></th>\n",
       "      <th></th>\n",
       "      <th></th>\n",
       "      <th></th>\n",
       "      <th></th>\n",
       "      <th></th>\n",
       "      <th></th>\n",
       "    </tr>\n",
       "  </thead>\n",
       "  <tbody>\n",
       "    <tr>\n",
       "      <th>female</th>\n",
       "      <td>314</td>\n",
       "      <td>314</td>\n",
       "      <td>314</td>\n",
       "      <td>261</td>\n",
       "      <td>314</td>\n",
       "      <td>314</td>\n",
       "      <td>314</td>\n",
       "      <td>314</td>\n",
       "      <td>97</td>\n",
       "      <td>312</td>\n",
       "    </tr>\n",
       "    <tr>\n",
       "      <th>male</th>\n",
       "      <td>577</td>\n",
       "      <td>577</td>\n",
       "      <td>577</td>\n",
       "      <td>453</td>\n",
       "      <td>577</td>\n",
       "      <td>577</td>\n",
       "      <td>577</td>\n",
       "      <td>577</td>\n",
       "      <td>107</td>\n",
       "      <td>577</td>\n",
       "    </tr>\n",
       "  </tbody>\n",
       "</table>\n",
       "</div>"
      ]
     },
     "output_type": "execute_result",
     "metadata": {}
    }
   ],
   "source": [
    "# Какое количество мужчин и женщин ехало на корабле? В качестве ответа приведите два числа через пробел.\n",
    "\n",
    "data.groupby('Sex').count()\n",
    "# Answer: 314 577"
   ]
  },
  {
   "cell_type": "code",
   "execution_count": 6,
   "metadata": {},
   "outputs": [
    {
     "data": {
      "text/plain": [
       "0.3838383838383838"
      ]
     },
     "execution_count": 6,
     "output_type": "execute_result",
     "metadata": {}
    }
   ],
   "source": [
    "# Какой части пассажиров удалось выжить? Посчитайте долю выживших пассажиров. Ответ приведите в процентах\n",
    "#   (число в интервале от 0 до 100, знак процента не нужен).\n",
    "\n",
    "data['Survived'].sum() / m\n",
    "# Answer: 0.3838"
   ]
  },
  {
   "cell_type": "code",
   "execution_count": 7,
   "metadata": {},
   "outputs": [
    {
     "data": {
      "text/plain": [
       "0.24242424242424243"
      ]
     },
     "execution_count": 7,
     "output_type": "execute_result",
     "metadata": {}
    }
   ],
   "source": [
    "# Какую долю пассажиры первого класса составляли среди всех пассажиров? Ответ приведите в процентах\n",
    "#   (число в интервале от 0 до 100, знак процента не нужен).\n",
    "\n",
    "sum(data['Pclass'] == 1) / m\n",
    "# Answer: 0.2424"
   ]
  },
  {
   "cell_type": "code",
   "execution_count": 9,
   "metadata": {},
   "outputs": [
    {
     "name": "stdout",
     "output_type": "stream",
     "text": [
      "29.6991176471\n",
      "28.0\n"
     ]
    }
   ],
   "source": [
    "# Какого возраста были пассажиры? Посчитайте среднее и медиану возраста пассажиров. В качестве ответа приведите\n",
    "#   два числа через пробел.\n",
    "\n",
    "print data['Age'].mean()\n",
    "print data['Age'].median()\n",
    "# Answer: 29.69911764705882 28.0"
   ]
  },
  {
   "cell_type": "code",
   "execution_count": 11,
   "metadata": {},
   "outputs": [
    {
     "data": {
      "text/plain": [
       "0.41483769862015263"
      ]
     },
     "execution_count": 11,
     "output_type": "execute_result",
     "metadata": {}
    }
   ],
   "source": [
    "# Коррелируют ли число братьев/сестер с числом родителей/детей? Посчитайте корреляцию\n",
    "#   Пирсона между признаками SibSp и Parch.\n",
    "\n",
    "A = ['SibSp', 'Parch']\n",
    "data[A].corr()['Parch']['SibSp']\n",
    "# Answer: 0.41483769862015263"
   ]
  },
  {
   "cell_type": "code",
   "execution_count": 13,
   "metadata": {},
   "outputs": [
    {
     "data": {
      "text/plain": [
       "William      13\n",
       "Anna          9\n",
       "Mary          9\n",
       "Margaret      6\n",
       "Elizabeth     6\n",
       "John          6\n",
       "Thomas        6\n",
       "Frederick     5\n",
       "Alice         5\n",
       "Helen         4\n",
       "Ellen         4\n",
       "James         4\n",
       "Bertha        4\n",
       "Edward        4\n",
       "Mrs.          3\n",
       "Samuel        3\n",
       "Hanora        3\n",
       "Joseph        3\n",
       "Charles       3\n",
       "Kate          3\n",
       "Annie         3\n",
       "Katherine     3\n",
       "Henry         3\n",
       "Marion        2\n",
       "Marjorie      2\n",
       "Mabel         2\n",
       "George        2\n",
       "Emily         2\n",
       "Alexander     2\n",
       "Marija        2\n",
       "             ..\n",
       "Katie         1\n",
       "Amy           1\n",
       "Dorothy       1\n",
       "Hjalmar       1\n",
       "Dickinson     1\n",
       "Laura         1\n",
       "Hilda         1\n",
       "Norman        1\n",
       "Countess.     1\n",
       "Laina         1\n",
       "(Marion       1\n",
       "Kristina      1\n",
       "Adele         1\n",
       "(Lutie        1\n",
       "Helmina       1\n",
       "Ann           1\n",
       "Ethel         1\n",
       "Gerda         1\n",
       "Kornelia      1\n",
       "Harriet       1\n",
       "Carl          1\n",
       "Stella        1\n",
       "Jamila        1\n",
       "Nourelain     1\n",
       "Karl          1\n",
       "Eva           1\n",
       "Henriette     1\n",
       "Robina        1\n",
       "Jeannie       1\n",
       "Richard       1\n",
       "Name: Name, dtype: int64"
      ]
     },
     "execution_count": 13,
     "output_type": "execute_result",
     "metadata": {}
    }
   ],
   "source": [
    "# Какое самое популярное женское имя на корабле? Извлеките из полного имени пассажира (колонка Name)\n",
    "#   его личное имя (First Name). Это задание — типичный пример того, с чем сталкивается специалист по анализу данных.\n",
    "#   Данные очень разнородные и шумные, но из них требуется извлечь необходимую информацию.\n",
    "#   Попробуйте вручную разобрать несколько значений столбца Name и выработать правило для извлечения имен,\n",
    "#   а также разделения их на женские и мужские.\n",
    "\n",
    "\n",
    "names = data.groupby('Sex').get_group('female')['Name']\n",
    "first_names = names.apply(lambda x: x.split()[2])\n",
    "first_names.value_counts()\n",
    "# Answer: Anna"
   ]
  }
 ],
 "metadata": {
  "kernelspec": {
   "display_name": "Python 2",
   "language": "python",
   "name": "python2"
  },
  "language_info": {
   "codemirror_mode": {
    "name": "ipython",
    "version": 2.0
   },
   "file_extension": ".py",
   "mimetype": "text/x-python",
   "name": "python",
   "nbconvert_exporter": "python",
   "pygments_lexer": "ipython2",
   "version": "2.7.11"
  }
 },
 "nbformat": 4,
 "nbformat_minor": 0
}